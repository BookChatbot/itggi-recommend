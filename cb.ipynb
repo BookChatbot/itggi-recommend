{
 "cells": [
  {
   "cell_type": "code",
   "execution_count": 1,
   "metadata": {},
   "outputs": [],
   "source": [
    "import pandas as pd\n",
    "import numpy as np\n",
    "import re\n",
    "from gensim.models import Word2Vec\n",
    "from gensim.models import KeyedVectors\n",
    "from sklearn.metrics.pairwise import cosine_similarity\n",
    "from db import get_pd_from_table\n",
    "from konlpy.tag import Mecab\n",
    "from tqdm import tqdm"
   ]
  },
  {
   "cell_type": "code",
   "execution_count": 2,
   "metadata": {},
   "outputs": [
    {
     "data": {
      "text/html": [
       "<div>\n",
       "<style scoped>\n",
       "    .dataframe tbody tr th:only-of-type {\n",
       "        vertical-align: middle;\n",
       "    }\n",
       "\n",
       "    .dataframe tbody tr th {\n",
       "        vertical-align: top;\n",
       "    }\n",
       "\n",
       "    .dataframe thead th {\n",
       "        text-align: right;\n",
       "    }\n",
       "</style>\n",
       "<table border=\"1\" class=\"dataframe\">\n",
       "  <thead>\n",
       "    <tr style=\"text-align: right;\">\n",
       "      <th></th>\n",
       "      <th>id</th>\n",
       "      <th>title</th>\n",
       "      <th>author</th>\n",
       "      <th>publisher</th>\n",
       "      <th>summary</th>\n",
       "      <th>genre</th>\n",
       "    </tr>\n",
       "  </thead>\n",
       "  <tbody>\n",
       "    <tr>\n",
       "      <th>0</th>\n",
       "      <td>1</td>\n",
       "      <td>리스트 고독한가운데 신의 축복 (984)</td>\n",
       "      <td>마스트미디어 편집부 (지은이)</td>\n",
       "      <td>마스트미디어</td>\n",
       "      <td></td>\n",
       "      <td>예술/대중문화</td>\n",
       "    </tr>\n",
       "    <tr>\n",
       "      <th>1</th>\n",
       "      <td>2</td>\n",
       "      <td>거짓말이다 + 꽃다발 상품권 세트</td>\n",
       "      <td>김탁환 (지은이)</td>\n",
       "      <td>북스피어</td>\n",
       "      <td>김탁환 작가의 &amp;lt;거짓말이다&amp;gt;와 꽃다발을 함께 구입할 수 있는 기획 상품....</td>\n",
       "      <td>소설/시/희곡</td>\n",
       "    </tr>\n",
       "    <tr>\n",
       "      <th>2</th>\n",
       "      <td>3</td>\n",
       "      <td>[헌금봉투] 주일헌금 201 (1속50매) - VJ-1311-201</td>\n",
       "      <td>비전북 편집부 (지은이)</td>\n",
       "      <td>비전북(VisionBook)</td>\n",
       "      <td>비전아트 고급캘리헌금봉투는 캘리그래피를 담은 우아한 디자인을 더했다. 두꺼운 재질의...</td>\n",
       "      <td>종교/역학</td>\n",
       "    </tr>\n",
       "    <tr>\n",
       "      <th>3</th>\n",
       "      <td>4</td>\n",
       "      <td>[헌금봉투] 주일헌금 202 (1속50매) - VJ-1311-202</td>\n",
       "      <td>비전북 편집부 (지은이)</td>\n",
       "      <td>비전북(VisionBook)</td>\n",
       "      <td>비전아트 고급캘리헌금봉투는 캘리그래피를 담은 우아한 디자인을 더했다. 두꺼운 재질의...</td>\n",
       "      <td>종교/역학</td>\n",
       "    </tr>\n",
       "    <tr>\n",
       "      <th>4</th>\n",
       "      <td>5</td>\n",
       "      <td>엘르 Elle E형 2022.8 (표지 : NCT 재현) (부록없음) - 주요기사 ...</td>\n",
       "      <td>허스트중앙 편집부 (지은이)</td>\n",
       "      <td>허스트중앙(Hearst-Joongang)</td>\n",
       "      <td></td>\n",
       "      <td>잡지</td>\n",
       "    </tr>\n",
       "  </tbody>\n",
       "</table>\n",
       "</div>"
      ],
      "text/plain": [
       "   id                                              title            author  \\\n",
       "0   1                             리스트 고독한가운데 신의 축복 (984)  마스트미디어 편집부 (지은이)   \n",
       "1   2                                 거짓말이다 + 꽃다발 상품권 세트         김탁환 (지은이)   \n",
       "2   3              [헌금봉투] 주일헌금 201 (1속50매) - VJ-1311-201     비전북 편집부 (지은이)   \n",
       "3   4              [헌금봉투] 주일헌금 202 (1속50매) - VJ-1311-202     비전북 편집부 (지은이)   \n",
       "4   5  엘르 Elle E형 2022.8 (표지 : NCT 재현) (부록없음) - 주요기사 ...   허스트중앙 편집부 (지은이)   \n",
       "\n",
       "                publisher                                            summary  \\\n",
       "0                  마스트미디어                                                      \n",
       "1                    북스피어  김탁환 작가의 &lt;거짓말이다&gt;와 꽃다발을 함께 구입할 수 있는 기획 상품....   \n",
       "2         비전북(VisionBook)  비전아트 고급캘리헌금봉투는 캘리그래피를 담은 우아한 디자인을 더했다. 두꺼운 재질의...   \n",
       "3         비전북(VisionBook)  비전아트 고급캘리헌금봉투는 캘리그래피를 담은 우아한 디자인을 더했다. 두꺼운 재질의...   \n",
       "4  허스트중앙(Hearst-Joongang)                                                      \n",
       "\n",
       "     genre  \n",
       "0  예술/대중문화  \n",
       "1  소설/시/희곡  \n",
       "2    종교/역학  \n",
       "3    종교/역학  \n",
       "4       잡지  "
      ]
     },
     "execution_count": 2,
     "metadata": {},
     "output_type": "execute_result"
    }
   ],
   "source": [
    "books = get_pd_from_table('books')\n",
    "books.drop(['isbn', 'pubDate', 'img', 'rate', 'bestseller', 'similarity'], axis=1, inplace=True)\n",
    "books.dropna(axis=0, inplace=True)\n",
    "books.head()"
   ]
  },
  {
   "cell_type": "code",
   "execution_count": 3,
   "metadata": {},
   "outputs": [
    {
     "data": {
      "text/html": [
       "<div>\n",
       "<style scoped>\n",
       "    .dataframe tbody tr th:only-of-type {\n",
       "        vertical-align: middle;\n",
       "    }\n",
       "\n",
       "    .dataframe tbody tr th {\n",
       "        vertical-align: top;\n",
       "    }\n",
       "\n",
       "    .dataframe thead th {\n",
       "        text-align: right;\n",
       "    }\n",
       "</style>\n",
       "<table border=\"1\" class=\"dataframe\">\n",
       "  <thead>\n",
       "    <tr style=\"text-align: right;\">\n",
       "      <th></th>\n",
       "      <th>id</th>\n",
       "      <th>summary</th>\n",
       "    </tr>\n",
       "  </thead>\n",
       "  <tbody>\n",
       "    <tr>\n",
       "      <th>0</th>\n",
       "      <td>1</td>\n",
       "      <td>리스트 고독한가운데 신의 축복 (984)마스트미디어 편집부 (지은이)마스트미디어예술...</td>\n",
       "    </tr>\n",
       "    <tr>\n",
       "      <th>1</th>\n",
       "      <td>2</td>\n",
       "      <td>거짓말이다 + 꽃다발 상품권 세트김탁환 (지은이)북스피어김탁환 작가의 &amp;lt;거짓말...</td>\n",
       "    </tr>\n",
       "    <tr>\n",
       "      <th>2</th>\n",
       "      <td>3</td>\n",
       "      <td>[헌금봉투] 주일헌금 201 (1속50매) - VJ-1311-201비전북 편집부 (...</td>\n",
       "    </tr>\n",
       "    <tr>\n",
       "      <th>3</th>\n",
       "      <td>4</td>\n",
       "      <td>[헌금봉투] 주일헌금 202 (1속50매) - VJ-1311-202비전북 편집부 (...</td>\n",
       "    </tr>\n",
       "    <tr>\n",
       "      <th>4</th>\n",
       "      <td>5</td>\n",
       "      <td>엘르 Elle E형 2022.8 (표지 : NCT 재현) (부록없음) - 주요기사 ...</td>\n",
       "    </tr>\n",
       "  </tbody>\n",
       "</table>\n",
       "</div>"
      ],
      "text/plain": [
       "   id                                            summary\n",
       "0   1  리스트 고독한가운데 신의 축복 (984)마스트미디어 편집부 (지은이)마스트미디어예술...\n",
       "1   2  거짓말이다 + 꽃다발 상품권 세트김탁환 (지은이)북스피어김탁환 작가의 &lt;거짓말...\n",
       "2   3  [헌금봉투] 주일헌금 201 (1속50매) - VJ-1311-201비전북 편집부 (...\n",
       "3   4  [헌금봉투] 주일헌금 202 (1속50매) - VJ-1311-202비전북 편집부 (...\n",
       "4   5  엘르 Elle E형 2022.8 (표지 : NCT 재현) (부록없음) - 주요기사 ..."
      ]
     },
     "execution_count": 3,
     "metadata": {},
     "output_type": "execute_result"
    }
   ],
   "source": [
    "summaries = []\n",
    "for book in books.values:\n",
    "    summary = book[1]\n",
    "    summary += book[2]\n",
    "    summary += book[3]\n",
    "    summary += book[4]\n",
    "    summary += book[5]\n",
    "    summaries.append(summary)\n",
    "books['summary'] = summaries\n",
    "books.drop(['title','author','publisher','genre'], axis=1, inplace=True)\n",
    "books.head()"
   ]
  },
  {
   "cell_type": "code",
   "execution_count": 4,
   "metadata": {},
   "outputs": [
    {
     "name": "stdout",
     "output_type": "stream",
     "text": [
      "['이', '있', '하', '것', '들', '그', '되', '수', '이', '보', '않', '없', '나', '사람', '주', '아니', '등', '같', '우리', '때', '년', '가', '한', '지', '대하', '오', '말', '일', '그렇', '위하', '때문', '그것', '두', '말하', '알', '그러나', '받', '못하', '일', '그런', '또', '문제', '더', '사회', '많', '그리고', '좋', '크', '따르', '중', '나오', '가지', '씨', '시키', '만들', '지금', '생각하', '그러', '속', '하나', '집', '살', '모르', '적', '월', '데', '자신', '안', '어떤', '내', '내', '경우', '명', '생각', '시간', '그녀', '다시', '이런', '앞', '보이', '번', '나', '다른', '어떻', '여자', '개', '전', '들', '사실', '이렇', '점', '싶', '말', '정도', '좀', '원', '잘', '통하', '소리', '놓']\n"
     ]
    }
   ],
   "source": [
    "# 불용어 가져오기\n",
    "stopwords = []\n",
    "with open(\"data/hangul_stopword.txt\", \"r\") as f:\n",
    "    lines = f.readlines()\n",
    "    for line in lines:\n",
    "        line = line.strip()  # 줄 끝의 줄 바꿈 문자를 제거한다.\n",
    "        line = line.replace('\\n', '')\n",
    "        stopwords.append(line)\n",
    "print(stopwords)"
   ]
  },
  {
   "cell_type": "code",
   "execution_count": 5,
   "metadata": {},
   "outputs": [
    {
     "name": "stderr",
     "output_type": "stream",
     "text": [
      "/var/folders/9d/4103_0g54_s9yr74zb4kcm340000gn/T/ipykernel_89932/3166800422.py:2: FutureWarning: The default value of regex will change from True to False in a future version.\n",
      "  books['summary'] = books['summary'].str.replace(\"[^ㄱ-ㅎㅏ-ㅣ가-힣 ]\",\"\")\n",
      "100%|██████████| 76080/76080 [00:18<00:00, 4088.00it/s]\n"
     ]
    },
    {
     "data": {
      "text/html": [
       "<div>\n",
       "<style scoped>\n",
       "    .dataframe tbody tr th:only-of-type {\n",
       "        vertical-align: middle;\n",
       "    }\n",
       "\n",
       "    .dataframe tbody tr th {\n",
       "        vertical-align: top;\n",
       "    }\n",
       "\n",
       "    .dataframe thead th {\n",
       "        text-align: right;\n",
       "    }\n",
       "</style>\n",
       "<table border=\"1\" class=\"dataframe\">\n",
       "  <thead>\n",
       "    <tr style=\"text-align: right;\">\n",
       "      <th></th>\n",
       "      <th>id</th>\n",
       "      <th>summary</th>\n",
       "    </tr>\n",
       "  </thead>\n",
       "  <tbody>\n",
       "    <tr>\n",
       "      <th>0</th>\n",
       "      <td>1</td>\n",
       "      <td>[리스트, 고독, 가운데, 신, 의, 축복, 마스트, 미디어, 편집부, 지은, 마스...</td>\n",
       "    </tr>\n",
       "    <tr>\n",
       "      <th>1</th>\n",
       "      <td>2</td>\n",
       "      <td>[거짓말, 다, 꽃다발, 상품권, 세트, 김탁환, 지은, 북, 스피어, 김탁환, 작...</td>\n",
       "    </tr>\n",
       "    <tr>\n",
       "      <th>2</th>\n",
       "      <td>3</td>\n",
       "      <td>[헌, 금봉, 투, 주일, 헌금, 매, 비, 전북, 편집부, 지은, 비, 전북, 비...</td>\n",
       "    </tr>\n",
       "    <tr>\n",
       "      <th>3</th>\n",
       "      <td>4</td>\n",
       "      <td>[헌, 금봉, 투, 주일, 헌금, 매, 비, 전북, 편집부, 지은, 비, 전북, 비...</td>\n",
       "    </tr>\n",
       "    <tr>\n",
       "      <th>4</th>\n",
       "      <td>5</td>\n",
       "      <td>[엘르, 형, 표지, 재현, 부록, 음, 주요, 기사, 재현, 김, 태리, 아이, ...</td>\n",
       "    </tr>\n",
       "  </tbody>\n",
       "</table>\n",
       "</div>"
      ],
      "text/plain": [
       "   id                                            summary\n",
       "0   1  [리스트, 고독, 가운데, 신, 의, 축복, 마스트, 미디어, 편집부, 지은, 마스...\n",
       "1   2  [거짓말, 다, 꽃다발, 상품권, 세트, 김탁환, 지은, 북, 스피어, 김탁환, 작...\n",
       "2   3  [헌, 금봉, 투, 주일, 헌금, 매, 비, 전북, 편집부, 지은, 비, 전북, 비...\n",
       "3   4  [헌, 금봉, 투, 주일, 헌금, 매, 비, 전북, 편집부, 지은, 비, 전북, 비...\n",
       "4   5  [엘르, 형, 표지, 재현, 부록, 음, 주요, 기사, 재현, 김, 태리, 아이, ..."
      ]
     },
     "execution_count": 5,
     "metadata": {},
     "output_type": "execute_result"
    }
   ],
   "source": [
    "# summary 전처리\n",
    "books['summary'] = books['summary'].str.replace(\"[^ㄱ-ㅎㅏ-ㅣ가-힣 ]\",\"\")\n",
    "mecab = Mecab()\n",
    "corpus_list = []\n",
    "for index, row in tqdm(books.iterrows(), total=len(books)):\n",
    "    text = row['summary']\n",
    "    tokenized_sentence = mecab.morphs(text)\n",
    "    stopwords_removed_sentence = [word for word in tokenized_sentence if not word in stopwords] # 불용어 제거\n",
    "    corpus_list.append(stopwords_removed_sentence)\n",
    "books['summary'] = corpus_list\n",
    "books.head()"
   ]
  },
  {
   "cell_type": "code",
   "execution_count": null,
   "metadata": {},
   "outputs": [],
   "source": [
    "word_model = Word2Vec.load('data/ko.bin')\n",
    "a = word_model.wv.most_similar(\"계발\")\n",
    "\n",
    "# genre 벡터로 만들어서 추가\n",
    "genre_vec = []\n",
    "for genre in item_meta['genre']:\n",
    "    if genre == '경제경영':\n",
    "        genre_vec.append(tuple(word_model[\"경제\"]))\n",
    "    elif genre == '소설/시/희곡':\n",
    "        genre_vec.append(tuple(word_model[\"소설\"]))\n",
    "    elif genre == '자기계발':\n",
    "        genre_vec.append(tuple(word_model[\"계발\"]))\n",
    "    else:\n",
    "        genre_vec.append(tuple(word_model[genre]))\n",
    "item_meta['genre_vec'] = genre_vec\n",
    "item_meta"
   ]
  }
 ],
 "metadata": {
  "kernelspec": {
   "display_name": "Python 3.8.13 ('chatbot')",
   "language": "python",
   "name": "python3"
  },
  "language_info": {
   "codemirror_mode": {
    "name": "ipython",
    "version": 3
   },
   "file_extension": ".py",
   "mimetype": "text/x-python",
   "name": "python",
   "nbconvert_exporter": "python",
   "pygments_lexer": "ipython3",
   "version": "3.8.13"
  },
  "orig_nbformat": 4,
  "vscode": {
   "interpreter": {
    "hash": "4bfab7aa2fbbc372242910e59ecd456df629791991cb95b274250b65eb2f43e2"
   }
  }
 },
 "nbformat": 4,
 "nbformat_minor": 2
}
