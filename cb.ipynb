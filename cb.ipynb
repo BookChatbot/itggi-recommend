{
 "cells": [
  {
   "cell_type": "code",
   "execution_count": 1,
   "metadata": {},
   "outputs": [],
   "source": [
    "import pandas as pd\n",
    "import numpy as np\n",
    "import re\n",
    "from gensim.models import Word2Vec\n",
    "from gensim.models import KeyedVectors\n",
    "from sklearn.metrics.pairwise import cosine_similarity\n",
    "from db import get_pd_from_table\n",
    "from konlpy.tag import Mecab\n",
    "from tqdm import tqdm"
   ]
  },
  {
   "cell_type": "code",
   "execution_count": 2,
   "metadata": {},
   "outputs": [
    {
     "data": {
      "text/html": [
       "<div>\n",
       "<style scoped>\n",
       "    .dataframe tbody tr th:only-of-type {\n",
       "        vertical-align: middle;\n",
       "    }\n",
       "\n",
       "    .dataframe tbody tr th {\n",
       "        vertical-align: top;\n",
       "    }\n",
       "\n",
       "    .dataframe thead th {\n",
       "        text-align: right;\n",
       "    }\n",
       "</style>\n",
       "<table border=\"1\" class=\"dataframe\">\n",
       "  <thead>\n",
       "    <tr style=\"text-align: right;\">\n",
       "      <th></th>\n",
       "      <th>id</th>\n",
       "      <th>title</th>\n",
       "      <th>author</th>\n",
       "      <th>publisher</th>\n",
       "      <th>summary</th>\n",
       "      <th>genre</th>\n",
       "    </tr>\n",
       "  </thead>\n",
       "  <tbody>\n",
       "    <tr>\n",
       "      <th>0</th>\n",
       "      <td>1</td>\n",
       "      <td>리스트 고독한가운데 신의 축복 (984)</td>\n",
       "      <td>마스트미디어 편집부 (지은이)</td>\n",
       "      <td>마스트미디어</td>\n",
       "      <td></td>\n",
       "      <td>예술/대중문화</td>\n",
       "    </tr>\n",
       "    <tr>\n",
       "      <th>1</th>\n",
       "      <td>2</td>\n",
       "      <td>거짓말이다 + 꽃다발 상품권 세트</td>\n",
       "      <td>김탁환 (지은이)</td>\n",
       "      <td>북스피어</td>\n",
       "      <td>김탁환 작가의 &amp;lt;거짓말이다&amp;gt;와 꽃다발을 함께 구입할 수 있는 기획 상품....</td>\n",
       "      <td>소설/시/희곡</td>\n",
       "    </tr>\n",
       "    <tr>\n",
       "      <th>2</th>\n",
       "      <td>3</td>\n",
       "      <td>[헌금봉투] 주일헌금 201 (1속50매) - VJ-1311-201</td>\n",
       "      <td>비전북 편집부 (지은이)</td>\n",
       "      <td>비전북(VisionBook)</td>\n",
       "      <td>비전아트 고급캘리헌금봉투는 캘리그래피를 담은 우아한 디자인을 더했다. 두꺼운 재질의...</td>\n",
       "      <td>종교/역학</td>\n",
       "    </tr>\n",
       "    <tr>\n",
       "      <th>3</th>\n",
       "      <td>4</td>\n",
       "      <td>[헌금봉투] 주일헌금 202 (1속50매) - VJ-1311-202</td>\n",
       "      <td>비전북 편집부 (지은이)</td>\n",
       "      <td>비전북(VisionBook)</td>\n",
       "      <td>비전아트 고급캘리헌금봉투는 캘리그래피를 담은 우아한 디자인을 더했다. 두꺼운 재질의...</td>\n",
       "      <td>종교/역학</td>\n",
       "    </tr>\n",
       "    <tr>\n",
       "      <th>4</th>\n",
       "      <td>5</td>\n",
       "      <td>엘르 Elle E형 2022.8 (표지 : NCT 재현) (부록없음) - 주요기사 ...</td>\n",
       "      <td>허스트중앙 편집부 (지은이)</td>\n",
       "      <td>허스트중앙(Hearst-Joongang)</td>\n",
       "      <td></td>\n",
       "      <td>잡지</td>\n",
       "    </tr>\n",
       "  </tbody>\n",
       "</table>\n",
       "</div>"
      ],
      "text/plain": [
       "   id                                              title            author  \\\n",
       "0   1                             리스트 고독한가운데 신의 축복 (984)  마스트미디어 편집부 (지은이)   \n",
       "1   2                                 거짓말이다 + 꽃다발 상품권 세트         김탁환 (지은이)   \n",
       "2   3              [헌금봉투] 주일헌금 201 (1속50매) - VJ-1311-201     비전북 편집부 (지은이)   \n",
       "3   4              [헌금봉투] 주일헌금 202 (1속50매) - VJ-1311-202     비전북 편집부 (지은이)   \n",
       "4   5  엘르 Elle E형 2022.8 (표지 : NCT 재현) (부록없음) - 주요기사 ...   허스트중앙 편집부 (지은이)   \n",
       "\n",
       "                publisher                                            summary  \\\n",
       "0                  마스트미디어                                                      \n",
       "1                    북스피어  김탁환 작가의 &lt;거짓말이다&gt;와 꽃다발을 함께 구입할 수 있는 기획 상품....   \n",
       "2         비전북(VisionBook)  비전아트 고급캘리헌금봉투는 캘리그래피를 담은 우아한 디자인을 더했다. 두꺼운 재질의...   \n",
       "3         비전북(VisionBook)  비전아트 고급캘리헌금봉투는 캘리그래피를 담은 우아한 디자인을 더했다. 두꺼운 재질의...   \n",
       "4  허스트중앙(Hearst-Joongang)                                                      \n",
       "\n",
       "     genre  \n",
       "0  예술/대중문화  \n",
       "1  소설/시/희곡  \n",
       "2    종교/역학  \n",
       "3    종교/역학  \n",
       "4       잡지  "
      ]
     },
     "execution_count": 2,
     "metadata": {},
     "output_type": "execute_result"
    }
   ],
   "source": [
    "books = get_pd_from_table('books')\n",
    "books.drop(['isbn', 'pubDate', 'img', 'rate', 'bestseller', 'similarity'], axis=1, inplace=True)\n",
    "books.dropna(axis=0, inplace=True)\n",
    "books.head()"
   ]
  },
  {
   "cell_type": "code",
   "execution_count": 3,
   "metadata": {},
   "outputs": [
    {
     "data": {
      "text/html": [
       "<div>\n",
       "<style scoped>\n",
       "    .dataframe tbody tr th:only-of-type {\n",
       "        vertical-align: middle;\n",
       "    }\n",
       "\n",
       "    .dataframe tbody tr th {\n",
       "        vertical-align: top;\n",
       "    }\n",
       "\n",
       "    .dataframe thead th {\n",
       "        text-align: right;\n",
       "    }\n",
       "</style>\n",
       "<table border=\"1\" class=\"dataframe\">\n",
       "  <thead>\n",
       "    <tr style=\"text-align: right;\">\n",
       "      <th></th>\n",
       "      <th>id</th>\n",
       "      <th>summary</th>\n",
       "    </tr>\n",
       "  </thead>\n",
       "  <tbody>\n",
       "    <tr>\n",
       "      <th>0</th>\n",
       "      <td>1</td>\n",
       "      <td>리스트 고독한가운데 신의 축복 (984)마스트미디어 편집부 (지은이)마스트미디어예술...</td>\n",
       "    </tr>\n",
       "    <tr>\n",
       "      <th>1</th>\n",
       "      <td>2</td>\n",
       "      <td>거짓말이다 + 꽃다발 상품권 세트김탁환 (지은이)북스피어김탁환 작가의 &amp;lt;거짓말...</td>\n",
       "    </tr>\n",
       "    <tr>\n",
       "      <th>2</th>\n",
       "      <td>3</td>\n",
       "      <td>[헌금봉투] 주일헌금 201 (1속50매) - VJ-1311-201비전북 편집부 (...</td>\n",
       "    </tr>\n",
       "    <tr>\n",
       "      <th>3</th>\n",
       "      <td>4</td>\n",
       "      <td>[헌금봉투] 주일헌금 202 (1속50매) - VJ-1311-202비전북 편집부 (...</td>\n",
       "    </tr>\n",
       "    <tr>\n",
       "      <th>4</th>\n",
       "      <td>5</td>\n",
       "      <td>엘르 Elle E형 2022.8 (표지 : NCT 재현) (부록없음) - 주요기사 ...</td>\n",
       "    </tr>\n",
       "  </tbody>\n",
       "</table>\n",
       "</div>"
      ],
      "text/plain": [
       "   id                                            summary\n",
       "0   1  리스트 고독한가운데 신의 축복 (984)마스트미디어 편집부 (지은이)마스트미디어예술...\n",
       "1   2  거짓말이다 + 꽃다발 상품권 세트김탁환 (지은이)북스피어김탁환 작가의 &lt;거짓말...\n",
       "2   3  [헌금봉투] 주일헌금 201 (1속50매) - VJ-1311-201비전북 편집부 (...\n",
       "3   4  [헌금봉투] 주일헌금 202 (1속50매) - VJ-1311-202비전북 편집부 (...\n",
       "4   5  엘르 Elle E형 2022.8 (표지 : NCT 재현) (부록없음) - 주요기사 ..."
      ]
     },
     "execution_count": 3,
     "metadata": {},
     "output_type": "execute_result"
    }
   ],
   "source": [
    "summaries = []\n",
    "for book in books.values:\n",
    "    summary = book[1]\n",
    "    summary += book[2]\n",
    "    summary += book[3]\n",
    "    summary += book[4]\n",
    "    summary += book[5]\n",
    "    summaries.append(summary)\n",
    "books['summary'] = summaries\n",
    "books.drop(['title','author','publisher','genre'], axis=1, inplace=True)\n",
    "books.head()"
   ]
  },
  {
   "cell_type": "code",
   "execution_count": 4,
   "metadata": {},
   "outputs": [
    {
     "name": "stdout",
     "output_type": "stream",
     "text": [
      "['이', '있', '하', '것', '들', '그', '되', '수', '이', '보', '않', '없', '나', '사람', '주', '아니', '등', '같', '우리', '때', '년', '가', '한', '지', '대하', '오', '말', '일', '그렇', '위하', '때문', '그것', '두', '말하', '알', '그러나', '받', '못하', '일', '그런', '또', '문제', '더', '사회', '많', '그리고', '좋', '크', '따르', '중', '나오', '가지', '씨', '시키', '만들', '지금', '생각하', '그러', '속', '하나', '집', '살', '모르', '적', '월', '데', '자신', '안', '어떤', '내', '내', '경우', '명', '생각', '시간', '그녀', '다시', '이런', '앞', '보이', '번', '나', '다른', '어떻', '여자', '개', '전', '들', '사실', '이렇', '점', '싶', '말', '정도', '좀', '원', '잘', '통하', '소리', '놓']\n"
     ]
    }
   ],
   "source": [
    "# 불용어 가져오기\n",
    "stopwords = []\n",
    "with open(\"data/hangul_stopword.txt\", \"r\") as f:\n",
    "    lines = f.readlines()\n",
    "    for line in lines:\n",
    "        line = line.strip()  # 줄 끝의 줄 바꿈 문자를 제거한다.\n",
    "        line = line.replace('\\n', '')\n",
    "        stopwords.append(line)\n",
    "print(stopwords)"
   ]
  },
  {
   "cell_type": "code",
   "execution_count": 5,
   "metadata": {},
   "outputs": [
    {
     "name": "stderr",
     "output_type": "stream",
     "text": [
      "/var/folders/9d/4103_0g54_s9yr74zb4kcm340000gn/T/ipykernel_94734/3166800422.py:2: FutureWarning: The default value of regex will change from True to False in a future version.\n",
      "  books['summary'] = books['summary'].str.replace(\"[^ㄱ-ㅎㅏ-ㅣ가-힣 ]\",\"\")\n",
      "100%|██████████| 76118/76118 [00:17<00:00, 4230.11it/s]\n"
     ]
    },
    {
     "data": {
      "text/html": [
       "<div>\n",
       "<style scoped>\n",
       "    .dataframe tbody tr th:only-of-type {\n",
       "        vertical-align: middle;\n",
       "    }\n",
       "\n",
       "    .dataframe tbody tr th {\n",
       "        vertical-align: top;\n",
       "    }\n",
       "\n",
       "    .dataframe thead th {\n",
       "        text-align: right;\n",
       "    }\n",
       "</style>\n",
       "<table border=\"1\" class=\"dataframe\">\n",
       "  <thead>\n",
       "    <tr style=\"text-align: right;\">\n",
       "      <th></th>\n",
       "      <th>id</th>\n",
       "      <th>summary</th>\n",
       "    </tr>\n",
       "  </thead>\n",
       "  <tbody>\n",
       "    <tr>\n",
       "      <th>0</th>\n",
       "      <td>1</td>\n",
       "      <td>[리스트, 고독, 가운데, 신, 의, 축복, 마스트, 미디어, 편집부, 지은, 마스...</td>\n",
       "    </tr>\n",
       "    <tr>\n",
       "      <th>1</th>\n",
       "      <td>2</td>\n",
       "      <td>[거짓말, 다, 꽃다발, 상품권, 세트, 김탁환, 지은, 북, 스피어, 김탁환, 작...</td>\n",
       "    </tr>\n",
       "    <tr>\n",
       "      <th>2</th>\n",
       "      <td>3</td>\n",
       "      <td>[헌, 금봉, 투, 주일, 헌금, 매, 비, 전북, 편집부, 지은, 비, 전북, 비...</td>\n",
       "    </tr>\n",
       "    <tr>\n",
       "      <th>3</th>\n",
       "      <td>4</td>\n",
       "      <td>[헌, 금봉, 투, 주일, 헌금, 매, 비, 전북, 편집부, 지은, 비, 전북, 비...</td>\n",
       "    </tr>\n",
       "    <tr>\n",
       "      <th>4</th>\n",
       "      <td>5</td>\n",
       "      <td>[엘르, 형, 표지, 재현, 부록, 음, 주요, 기사, 재현, 김, 태리, 아이, ...</td>\n",
       "    </tr>\n",
       "  </tbody>\n",
       "</table>\n",
       "</div>"
      ],
      "text/plain": [
       "   id                                            summary\n",
       "0   1  [리스트, 고독, 가운데, 신, 의, 축복, 마스트, 미디어, 편집부, 지은, 마스...\n",
       "1   2  [거짓말, 다, 꽃다발, 상품권, 세트, 김탁환, 지은, 북, 스피어, 김탁환, 작...\n",
       "2   3  [헌, 금봉, 투, 주일, 헌금, 매, 비, 전북, 편집부, 지은, 비, 전북, 비...\n",
       "3   4  [헌, 금봉, 투, 주일, 헌금, 매, 비, 전북, 편집부, 지은, 비, 전북, 비...\n",
       "4   5  [엘르, 형, 표지, 재현, 부록, 음, 주요, 기사, 재현, 김, 태리, 아이, ..."
      ]
     },
     "execution_count": 5,
     "metadata": {},
     "output_type": "execute_result"
    }
   ],
   "source": [
    "# summary 전처리\n",
    "books['summary'] = books['summary'].str.replace(\"[^ㄱ-ㅎㅏ-ㅣ가-힣 ]\",\"\")\n",
    "mecab = Mecab()\n",
    "corpus_list = []\n",
    "for index, row in tqdm(books.iterrows(), total=len(books)):\n",
    "    text = row['summary']\n",
    "    tokenized_sentence = mecab.morphs(text)\n",
    "    stopwords_removed_sentence = [word for word in tokenized_sentence if not word in stopwords] # 불용어 제거\n",
    "    corpus_list.append(stopwords_removed_sentence)\n",
    "books['summary'] = corpus_list\n",
    "books.head()"
   ]
  },
  {
   "cell_type": "code",
   "execution_count": 6,
   "metadata": {},
   "outputs": [
    {
     "data": {
      "text/plain": [
       "[('고취', 0.6351145505905151),\n",
       " ('증진', 0.6197105050086975),\n",
       " ('교화', 0.6087900400161743),\n",
       " ('제고', 0.6057854890823364),\n",
       " ('실현', 0.6031328439712524),\n",
       " ('극대화', 0.5928179621696472),\n",
       " ('단련', 0.5917676687240601),\n",
       " ('향상', 0.591032862663269),\n",
       " ('창의력', 0.5878887176513672),\n",
       " ('실천', 0.5872039794921875)]"
      ]
     },
     "execution_count": 6,
     "metadata": {},
     "output_type": "execute_result"
    }
   ],
   "source": [
    "word2vec_model = Word2Vec.load('data/ko.bin')\n",
    "word2vec_model.wv.save_word2vec_format('data/ko.bin.gz', binary=True)\n",
    "a = word2vec_model.wv.most_similar(\"계발\")\n",
    "a"
   ]
  },
  {
   "cell_type": "code",
   "execution_count": 7,
   "metadata": {},
   "outputs": [
    {
     "data": {
      "text/plain": [
       "(0, 0)"
      ]
     },
     "execution_count": 7,
     "metadata": {},
     "output_type": "execute_result"
    }
   ],
   "source": [
    "word2vec_model = Word2Vec(size = 200, window=5, min_count = 2, workers = -1)\n",
    "word2vec_model.build_vocab(corpus_list)\n",
    "word2vec_model.intersect_word2vec_format('data/ko.bin.gz', lockf=1.0, binary=True)\n",
    "word2vec_model.train(corpus_list, total_examples = word2vec_model.corpus_count, epochs = 15)"
   ]
  },
  {
   "cell_type": "code",
   "execution_count": 17,
   "metadata": {},
   "outputs": [
    {
     "data": {
      "text/plain": [
       "[('정명오', 0.2842499613761902),\n",
       " ('시놉시스', 0.2808126211166382),\n",
       " ('이순일', 0.27146995067596436),\n",
       " ('시킴', 0.2571180462837219),\n",
       " ('플래닝', 0.2547532320022583),\n",
       " ('숑', 0.2509073317050934),\n",
       " ('카사이', 0.24893814325332642),\n",
       " ('히다', 0.24527166783809662),\n",
       " ('아카사카', 0.24466341733932495),\n",
       " ('공공장소', 0.24441102147102356)]"
      ]
     },
     "execution_count": 17,
     "metadata": {},
     "output_type": "execute_result"
    }
   ],
   "source": [
    "a = word2vec_model.wv.most_similar(\"태리\")\n",
    "a"
   ]
  },
  {
   "cell_type": "code",
   "execution_count": 14,
   "metadata": {},
   "outputs": [],
   "source": [
    "def get_document_vectors(document_list):\n",
    "    document_embedding_list = []\n",
    "\n",
    "    # 각 문서에 대해서\n",
    "    for line in document_list:\n",
    "        doc2vec = None\n",
    "        count = 0\n",
    "        for word in line:\n",
    "            if word in word2vec_model.wv.vocab:\n",
    "                count += 1\n",
    "                # 해당 문서에 있는 모든 단어들의 벡터값을 더한다.\n",
    "                if doc2vec is None:\n",
    "                    doc2vec = word2vec_model[word]\n",
    "                else:\n",
    "                    doc2vec = doc2vec + word2vec_model[word]\n",
    "\n",
    "        if doc2vec is not None:\n",
    "            # 단어 벡터를 모두 더한 벡터의 값을 문서 길이로 나눠준다.\n",
    "            doc2vec = doc2vec / count\n",
    "            document_embedding_list.append(doc2vec)\n",
    "\n",
    "    # 각 문서에 대한 문서 벡터 리스트를 리턴\n",
    "    return document_embedding_list"
   ]
  },
  {
   "cell_type": "code",
   "execution_count": 15,
   "metadata": {},
   "outputs": [
    {
     "name": "stderr",
     "output_type": "stream",
     "text": [
      "/var/folders/9d/4103_0g54_s9yr74zb4kcm340000gn/T/ipykernel_94734/3604015244.py:13: DeprecationWarning: Call to deprecated `__getitem__` (Method will be removed in 4.0.0, use self.wv.__getitem__() instead).\n",
      "  doc2vec = word2vec_model[word]\n",
      "/var/folders/9d/4103_0g54_s9yr74zb4kcm340000gn/T/ipykernel_94734/3604015244.py:15: DeprecationWarning: Call to deprecated `__getitem__` (Method will be removed in 4.0.0, use self.wv.__getitem__() instead).\n",
      "  doc2vec = doc2vec + word2vec_model[word]\n"
     ]
    },
    {
     "name": "stdout",
     "output_type": "stream",
     "text": [
      "문서 벡터의 수 : 76118\n"
     ]
    }
   ],
   "source": [
    "document_embedding_list = get_document_vectors(books['summary'])\n",
    "print('문서 벡터의 수 :',len(document_embedding_list))"
   ]
  },
  {
   "cell_type": "code",
   "execution_count": 31,
   "metadata": {},
   "outputs": [
    {
     "name": "stdout",
     "output_type": "stream",
     "text": [
      "코사인 유사도 매트릭스의 크기 : (76118, 76118)\n",
      "[[1.0000004  0.41011983 0.4365611  ... 0.35521767 0.4118845  0.2953902 ]\n",
      " [0.41011983 0.9999998  0.59605527 ... 0.6176088  0.6878752  0.56126434]\n",
      " [0.4365611  0.59605527 1.         ... 0.48128328 0.5050678  0.45753956]\n",
      " ...\n",
      " [0.35521767 0.6176088  0.48128328 ... 0.99999994 0.7778654  0.77676535]\n",
      " [0.4118845  0.6878752  0.5050678  ... 0.7778654  1.0000002  0.76149   ]\n",
      " [0.2953902  0.56126434 0.45753956 ... 0.77676535 0.76149    0.99999976]]\n"
     ]
    }
   ],
   "source": [
    "cosine_similarities = cosine_similarity(document_embedding_list, document_embedding_list)\n",
    "print('코사인 유사도 매트릭스의 크기 :',cosine_similarities.shape)\n",
    "print(cosine_similarities)"
   ]
  },
  {
   "cell_type": "code",
   "execution_count": 21,
   "metadata": {},
   "outputs": [],
   "source": [
    "def recommendations(book_id):\n",
    "    # 책의 제목을 입력하면 해당 제목의 인덱스를 리턴받아 idx에 저장.\n",
    "    indices = pd.Series(books.index, index = books['id'])\n",
    "    idx = indices[book_id]\n",
    "\n",
    "    # 입력된 책과 줄거리(document embedding)가 유사한 책 5개 선정.\n",
    "    sim_scores = list(enumerate(cosine_similarities[idx]))\n",
    "    sim_scores = sorted(sim_scores, key = lambda x: x[1], reverse = True)\n",
    "    sim_scores = sim_scores[1:6]\n",
    "\n",
    "    # 가장 유사한 책 5권의 인덱스\n",
    "    book_indices = [i[0] for i in sim_scores]\n",
    "\n",
    "    # 전체 데이터프레임에서 해당 인덱스의 행만 추출. 5개의 행을 가진다.\n",
    "    recommend = books.iloc[book_indices].reset_index(drop=True)\n",
    "\n",
    "    print(recommend)"
   ]
  },
  {
   "cell_type": "code",
   "execution_count": 30,
   "metadata": {},
   "outputs": [
    {
     "name": "stdout",
     "output_type": "stream",
     "text": [
      "      id                                            summary\n",
      "0   2943  [그림, 처럼, 다간, 고흐, 의, 마지막, 편지, 장세현, 지은, 이채우, 리반,...\n",
      "1  51820  [딱, 만, 선택, 라면, 책, 책, 덕, 후, 책, 을, 사랑, 는, 법, 데비,...\n",
      "2   1745  [유머, 에세이, 장, 김진악, 지은, 범우사, 범우, 문고, 권, 유머, 에세이,...\n",
      "3  74961  [너, 의, 특별, 달, 지은, 이고은, 그림, 김성미, 달달, 북스, 세상, 에서...\n",
      "4  11683  [소년, 표류기, 쥘, 베른, 지은, 레옹, 브네, 그림, 김윤진, 옮긴, 비룡소,...\n"
     ]
    }
   ],
   "source": [
    "recommendations(907)"
   ]
  },
  {
   "cell_type": "code",
   "execution_count": null,
   "metadata": {},
   "outputs": [],
   "source": []
  }
 ],
 "metadata": {
  "kernelspec": {
   "display_name": "Python 3.8.13 ('chatbot')",
   "language": "python",
   "name": "python3"
  },
  "language_info": {
   "codemirror_mode": {
    "name": "ipython",
    "version": 3
   },
   "file_extension": ".py",
   "mimetype": "text/x-python",
   "name": "python",
   "nbconvert_exporter": "python",
   "pygments_lexer": "ipython3",
   "version": "3.8.13"
  },
  "orig_nbformat": 4,
  "vscode": {
   "interpreter": {
    "hash": "4bfab7aa2fbbc372242910e59ecd456df629791991cb95b274250b65eb2f43e2"
   }
  }
 },
 "nbformat": 4,
 "nbformat_minor": 2
}
